{
 "cells": [
  {
   "cell_type": "markdown",
   "id": "847f1667",
   "metadata": {},
   "source": [
    "This will be the second prototype for the movies recommndation system. It will be made by making a content-based filtering algorithm."
   ]
  },
  {
   "cell_type": "markdown",
   "id": "1dcb810c",
   "metadata": {},
   "source": [
    "Download the dataset from: https://www.kaggle.com/datasets/rounakbanik/the-movies-dataset?resource=download"
   ]
  },
  {
   "cell_type": "code",
   "execution_count": 2,
   "id": "355d70be",
   "metadata": {},
   "outputs": [],
   "source": [
    "#Import libraries\n",
    "import pandas as pd\n",
    "import numpy as np\n",
    "\n",
    "# nltk.download('punkt')\n",
    "import nltk \n",
    "from nltk.stem.porter import PorterStemmer\n",
    "\n",
    "from sklearn.feature_extraction.text import TfidfVectorizer\n",
    "from sklearn.metrics.pairwise import cosine_similarity\n",
    "\n",
    "from scipy.sparse import csr_matrix\n",
    "\n",
    "import ipywidgets as widgets\n",
    "from IPython.display import display"
   ]
  },
  {
   "cell_type": "code",
   "execution_count": 3,
   "id": "45b85c96",
   "metadata": {},
   "outputs": [
    {
     "name": "stderr",
     "output_type": "stream",
     "text": [
      "C:\\Users\\Sim\\AppData\\Local\\Temp\\ipykernel_11688\\3178962405.py:2: DtypeWarning: Columns (10) have mixed types. Specify dtype option on import or set low_memory=False.\n",
      "  movies = pd.read_csv(\"Datasets/movies_metadata.csv\")\n"
     ]
    }
   ],
   "source": [
    "#Read files\n",
    "movies = pd.read_csv(\"Datasets/movies_metadata.csv\")"
   ]
  },
  {
   "cell_type": "code",
   "execution_count": 4,
   "id": "6e688f34",
   "metadata": {},
   "outputs": [
    {
     "data": {
      "text/html": [
       "<div>\n",
       "<style scoped>\n",
       "    .dataframe tbody tr th:only-of-type {\n",
       "        vertical-align: middle;\n",
       "    }\n",
       "\n",
       "    .dataframe tbody tr th {\n",
       "        vertical-align: top;\n",
       "    }\n",
       "\n",
       "    .dataframe thead th {\n",
       "        text-align: right;\n",
       "    }\n",
       "</style>\n",
       "<table border=\"1\" class=\"dataframe\">\n",
       "  <thead>\n",
       "    <tr style=\"text-align: right;\">\n",
       "      <th></th>\n",
       "      <th>adult</th>\n",
       "      <th>belongs_to_collection</th>\n",
       "      <th>budget</th>\n",
       "      <th>genres</th>\n",
       "      <th>homepage</th>\n",
       "      <th>id</th>\n",
       "      <th>imdb_id</th>\n",
       "      <th>original_language</th>\n",
       "      <th>original_title</th>\n",
       "      <th>overview</th>\n",
       "      <th>...</th>\n",
       "      <th>release_date</th>\n",
       "      <th>revenue</th>\n",
       "      <th>runtime</th>\n",
       "      <th>spoken_languages</th>\n",
       "      <th>status</th>\n",
       "      <th>tagline</th>\n",
       "      <th>title</th>\n",
       "      <th>video</th>\n",
       "      <th>vote_average</th>\n",
       "      <th>vote_count</th>\n",
       "    </tr>\n",
       "  </thead>\n",
       "  <tbody>\n",
       "    <tr>\n",
       "      <th>0</th>\n",
       "      <td>False</td>\n",
       "      <td>{'id': 10194, 'name': 'Toy Story Collection', ...</td>\n",
       "      <td>30000000</td>\n",
       "      <td>[{'id': 16, 'name': 'Animation'}, {'id': 35, '...</td>\n",
       "      <td>http://toystory.disney.com/toy-story</td>\n",
       "      <td>862</td>\n",
       "      <td>tt0114709</td>\n",
       "      <td>en</td>\n",
       "      <td>Toy Story</td>\n",
       "      <td>Led by Woody, Andy's toys live happily in his ...</td>\n",
       "      <td>...</td>\n",
       "      <td>1995-10-30</td>\n",
       "      <td>373554033.0</td>\n",
       "      <td>81.0</td>\n",
       "      <td>[{'iso_639_1': 'en', 'name': 'English'}]</td>\n",
       "      <td>Released</td>\n",
       "      <td>NaN</td>\n",
       "      <td>Toy Story</td>\n",
       "      <td>False</td>\n",
       "      <td>7.7</td>\n",
       "      <td>5415.0</td>\n",
       "    </tr>\n",
       "    <tr>\n",
       "      <th>1</th>\n",
       "      <td>False</td>\n",
       "      <td>NaN</td>\n",
       "      <td>65000000</td>\n",
       "      <td>[{'id': 12, 'name': 'Adventure'}, {'id': 14, '...</td>\n",
       "      <td>NaN</td>\n",
       "      <td>8844</td>\n",
       "      <td>tt0113497</td>\n",
       "      <td>en</td>\n",
       "      <td>Jumanji</td>\n",
       "      <td>When siblings Judy and Peter discover an encha...</td>\n",
       "      <td>...</td>\n",
       "      <td>1995-12-15</td>\n",
       "      <td>262797249.0</td>\n",
       "      <td>104.0</td>\n",
       "      <td>[{'iso_639_1': 'en', 'name': 'English'}, {'iso...</td>\n",
       "      <td>Released</td>\n",
       "      <td>Roll the dice and unleash the excitement!</td>\n",
       "      <td>Jumanji</td>\n",
       "      <td>False</td>\n",
       "      <td>6.9</td>\n",
       "      <td>2413.0</td>\n",
       "    </tr>\n",
       "    <tr>\n",
       "      <th>2</th>\n",
       "      <td>False</td>\n",
       "      <td>{'id': 119050, 'name': 'Grumpy Old Men Collect...</td>\n",
       "      <td>0</td>\n",
       "      <td>[{'id': 10749, 'name': 'Romance'}, {'id': 35, ...</td>\n",
       "      <td>NaN</td>\n",
       "      <td>15602</td>\n",
       "      <td>tt0113228</td>\n",
       "      <td>en</td>\n",
       "      <td>Grumpier Old Men</td>\n",
       "      <td>A family wedding reignites the ancient feud be...</td>\n",
       "      <td>...</td>\n",
       "      <td>1995-12-22</td>\n",
       "      <td>0.0</td>\n",
       "      <td>101.0</td>\n",
       "      <td>[{'iso_639_1': 'en', 'name': 'English'}]</td>\n",
       "      <td>Released</td>\n",
       "      <td>Still Yelling. Still Fighting. Still Ready for...</td>\n",
       "      <td>Grumpier Old Men</td>\n",
       "      <td>False</td>\n",
       "      <td>6.5</td>\n",
       "      <td>92.0</td>\n",
       "    </tr>\n",
       "    <tr>\n",
       "      <th>3</th>\n",
       "      <td>False</td>\n",
       "      <td>NaN</td>\n",
       "      <td>16000000</td>\n",
       "      <td>[{'id': 35, 'name': 'Comedy'}, {'id': 18, 'nam...</td>\n",
       "      <td>NaN</td>\n",
       "      <td>31357</td>\n",
       "      <td>tt0114885</td>\n",
       "      <td>en</td>\n",
       "      <td>Waiting to Exhale</td>\n",
       "      <td>Cheated on, mistreated and stepped on, the wom...</td>\n",
       "      <td>...</td>\n",
       "      <td>1995-12-22</td>\n",
       "      <td>81452156.0</td>\n",
       "      <td>127.0</td>\n",
       "      <td>[{'iso_639_1': 'en', 'name': 'English'}]</td>\n",
       "      <td>Released</td>\n",
       "      <td>Friends are the people who let you be yourself...</td>\n",
       "      <td>Waiting to Exhale</td>\n",
       "      <td>False</td>\n",
       "      <td>6.1</td>\n",
       "      <td>34.0</td>\n",
       "    </tr>\n",
       "    <tr>\n",
       "      <th>4</th>\n",
       "      <td>False</td>\n",
       "      <td>{'id': 96871, 'name': 'Father of the Bride Col...</td>\n",
       "      <td>0</td>\n",
       "      <td>[{'id': 35, 'name': 'Comedy'}]</td>\n",
       "      <td>NaN</td>\n",
       "      <td>11862</td>\n",
       "      <td>tt0113041</td>\n",
       "      <td>en</td>\n",
       "      <td>Father of the Bride Part II</td>\n",
       "      <td>Just when George Banks has recovered from his ...</td>\n",
       "      <td>...</td>\n",
       "      <td>1995-02-10</td>\n",
       "      <td>76578911.0</td>\n",
       "      <td>106.0</td>\n",
       "      <td>[{'iso_639_1': 'en', 'name': 'English'}]</td>\n",
       "      <td>Released</td>\n",
       "      <td>Just When His World Is Back To Normal... He's ...</td>\n",
       "      <td>Father of the Bride Part II</td>\n",
       "      <td>False</td>\n",
       "      <td>5.7</td>\n",
       "      <td>173.0</td>\n",
       "    </tr>\n",
       "  </tbody>\n",
       "</table>\n",
       "<p>5 rows × 24 columns</p>\n",
       "</div>"
      ],
      "text/plain": [
       "   adult                              belongs_to_collection    budget  \\\n",
       "0  False  {'id': 10194, 'name': 'Toy Story Collection', ...  30000000   \n",
       "1  False                                                NaN  65000000   \n",
       "2  False  {'id': 119050, 'name': 'Grumpy Old Men Collect...         0   \n",
       "3  False                                                NaN  16000000   \n",
       "4  False  {'id': 96871, 'name': 'Father of the Bride Col...         0   \n",
       "\n",
       "                                              genres  \\\n",
       "0  [{'id': 16, 'name': 'Animation'}, {'id': 35, '...   \n",
       "1  [{'id': 12, 'name': 'Adventure'}, {'id': 14, '...   \n",
       "2  [{'id': 10749, 'name': 'Romance'}, {'id': 35, ...   \n",
       "3  [{'id': 35, 'name': 'Comedy'}, {'id': 18, 'nam...   \n",
       "4                     [{'id': 35, 'name': 'Comedy'}]   \n",
       "\n",
       "                               homepage     id    imdb_id original_language  \\\n",
       "0  http://toystory.disney.com/toy-story    862  tt0114709                en   \n",
       "1                                   NaN   8844  tt0113497                en   \n",
       "2                                   NaN  15602  tt0113228                en   \n",
       "3                                   NaN  31357  tt0114885                en   \n",
       "4                                   NaN  11862  tt0113041                en   \n",
       "\n",
       "                original_title  \\\n",
       "0                    Toy Story   \n",
       "1                      Jumanji   \n",
       "2             Grumpier Old Men   \n",
       "3            Waiting to Exhale   \n",
       "4  Father of the Bride Part II   \n",
       "\n",
       "                                            overview  ... release_date  \\\n",
       "0  Led by Woody, Andy's toys live happily in his ...  ...   1995-10-30   \n",
       "1  When siblings Judy and Peter discover an encha...  ...   1995-12-15   \n",
       "2  A family wedding reignites the ancient feud be...  ...   1995-12-22   \n",
       "3  Cheated on, mistreated and stepped on, the wom...  ...   1995-12-22   \n",
       "4  Just when George Banks has recovered from his ...  ...   1995-02-10   \n",
       "\n",
       "       revenue runtime                                   spoken_languages  \\\n",
       "0  373554033.0    81.0           [{'iso_639_1': 'en', 'name': 'English'}]   \n",
       "1  262797249.0   104.0  [{'iso_639_1': 'en', 'name': 'English'}, {'iso...   \n",
       "2          0.0   101.0           [{'iso_639_1': 'en', 'name': 'English'}]   \n",
       "3   81452156.0   127.0           [{'iso_639_1': 'en', 'name': 'English'}]   \n",
       "4   76578911.0   106.0           [{'iso_639_1': 'en', 'name': 'English'}]   \n",
       "\n",
       "     status                                            tagline  \\\n",
       "0  Released                                                NaN   \n",
       "1  Released          Roll the dice and unleash the excitement!   \n",
       "2  Released  Still Yelling. Still Fighting. Still Ready for...   \n",
       "3  Released  Friends are the people who let you be yourself...   \n",
       "4  Released  Just When His World Is Back To Normal... He's ...   \n",
       "\n",
       "                         title  video vote_average vote_count  \n",
       "0                    Toy Story  False          7.7     5415.0  \n",
       "1                      Jumanji  False          6.9     2413.0  \n",
       "2             Grumpier Old Men  False          6.5       92.0  \n",
       "3            Waiting to Exhale  False          6.1       34.0  \n",
       "4  Father of the Bride Part II  False          5.7      173.0  \n",
       "\n",
       "[5 rows x 24 columns]"
      ]
     },
     "execution_count": 4,
     "metadata": {},
     "output_type": "execute_result"
    }
   ],
   "source": [
    "movies.head()"
   ]
  },
  {
   "cell_type": "code",
   "execution_count": 5,
   "id": "2bac467d",
   "metadata": {},
   "outputs": [
    {
     "data": {
      "text/plain": [
       "\"Led by Woody, Andy's toys live happily in his room until Andy's birthday brings Buzz Lightyear onto the scene. Afraid of losing his place in Andy's heart, Woody plots against Buzz. But when circumstances separate Buzz and Woody from their owner, the duo eventually learns to put aside their differences.\""
      ]
     },
     "execution_count": 5,
     "metadata": {},
     "output_type": "execute_result"
    }
   ],
   "source": [
    "#Examin the content\n",
    "movies['overview'][0]"
   ]
  },
  {
   "cell_type": "code",
   "execution_count": 6,
   "id": "2d670ac3",
   "metadata": {},
   "outputs": [],
   "source": [
    "movies = movies.sample(20000).reset_index(drop=True)"
   ]
  },
  {
   "cell_type": "code",
   "execution_count": 7,
   "id": "f07f40b0",
   "metadata": {},
   "outputs": [
    {
     "name": "stdout",
     "output_type": "stream",
     "text": [
      "object\n"
     ]
    }
   ],
   "source": [
    "print(movies['overview'].dtype)"
   ]
  },
  {
   "cell_type": "code",
   "execution_count": 8,
   "id": "e68d379b",
   "metadata": {},
   "outputs": [],
   "source": [
    "#Have to turn objects into a string to tokenise and stem\n",
    "movies['overview'] = movies['overview'].astype(str)"
   ]
  },
  {
   "cell_type": "code",
   "execution_count": 9,
   "id": "26fa995b",
   "metadata": {},
   "outputs": [],
   "source": [
    "#Data Preprocessing\n",
    "stemming = PorterStemmer()\n",
    "\n",
    "#Apply tokanisation and stemming \n",
    "def token(txt):\n",
    "    token = nltk.word_tokenize(txt)\n",
    "    stemmed = [stemming.stem(i) for i in token]\n",
    "    return \" \".join(stemmed)"
   ]
  },
  {
   "cell_type": "code",
   "execution_count": 10,
   "id": "316bc8c4",
   "metadata": {},
   "outputs": [
    {
     "data": {
      "text/plain": [
       "0        when a teenag girl move to england , with her ...\n",
       "1        railroad fireman bill white is a carefre ladi ...\n",
       "2        a savag stori of hate turn love and frenzi tur...\n",
       "3        an ornithologist mistaken for an explos expert...\n",
       "4        the continu of joe 's sexual dictat life delv ...\n",
       "                               ...                        \n",
       "19995    no one is safe when a killer , wield the deadl...\n",
       "19996    haskel ( michael cain ) is assign a job by hi ...\n",
       "19997    in thi delight anim tale , pardon-m pete ( bud...\n",
       "19998    from the union squar theater in new york citi ...\n",
       "19999    lestat de lioncourt is awaken from hi slumber ...\n",
       "Name: overview, Length: 20000, dtype: object"
      ]
     },
     "execution_count": 10,
     "metadata": {},
     "output_type": "execute_result"
    }
   ],
   "source": [
    "movies['overview'].apply(lambda x: token(x))"
   ]
  },
  {
   "cell_type": "code",
   "execution_count": 11,
   "id": "eb96cbc2",
   "metadata": {},
   "outputs": [],
   "source": [
    "#Vectorise the words to remove common english words\n",
    "vectoriser = TfidfVectorizer(stop_words=\"english\")\n",
    "matrix = vectoriser.fit_transform(movies[\"overview\"])"
   ]
  },
  {
   "cell_type": "code",
   "execution_count": 12,
   "id": "a5f89336",
   "metadata": {},
   "outputs": [],
   "source": [
    "matrix_csr = csr_matrix(matrix)"
   ]
  },
  {
   "cell_type": "code",
   "execution_count": 13,
   "id": "2af30f50",
   "metadata": {},
   "outputs": [],
   "source": [
    "\n",
    "# batch_size = 1000;\n",
    "# num = matrix.shape[0]\n",
    "\n",
    "# cosine_matrix = np.zeros((num,num))\n",
    "\n",
    "# for i in range(0, num, batch_size):\n",
    "#     start = i\n",
    "#     end = min(i + batch_size, num)\n",
    "    \n",
    "#     batch_cosine = cosine_similarity(matrix[start:end], matrix)\n",
    "    \n",
    "#     cosine_matrix[start_idx:end_idx] = batch_cosine\n",
    "\n",
    "\n",
    "#Compute pairwise cosine similarity\n",
    "cosine_similarity = cosine_similarity(matrix_csr)\n"
   ]
  },
  {
   "cell_type": "code",
   "execution_count": 14,
   "id": "bd7c9ee5",
   "metadata": {},
   "outputs": [
    {
     "data": {
      "text/plain": [
       "array([1.        , 0.        , 0.        , ..., 0.00492757, 0.        ,\n",
       "       0.        ])"
      ]
     },
     "execution_count": 14,
     "metadata": {},
     "output_type": "execute_result"
    }
   ],
   "source": [
    "cosine_similarity[0]"
   ]
  },
  {
   "cell_type": "code",
   "execution_count": 15,
   "id": "f976bbe5",
   "metadata": {},
   "outputs": [],
   "source": [
    "#Recommender Algorithm\n",
    "def recommender_system(movie, cosine_similarity):\n",
    "    idx = movies[movies['original_title']==movie].index[0]\n",
    "    distance = sorted(list(enumerate(cosine_similarity[idx])), reverse=True, key = lambda x:x[1])\n",
    "    movie_output = []\n",
    "    for m_id in distance[1:11]:\n",
    "        movie_output.append(movies.iloc[m_id[0]].original_title)\n",
    "    return movie_output"
   ]
  },
  {
   "cell_type": "code",
   "execution_count": 16,
   "id": "aa14b1eb",
   "metadata": {},
   "outputs": [
    {
     "data": {
      "text/html": [
       "<div>\n",
       "<style scoped>\n",
       "    .dataframe tbody tr th:only-of-type {\n",
       "        vertical-align: middle;\n",
       "    }\n",
       "\n",
       "    .dataframe tbody tr th {\n",
       "        vertical-align: top;\n",
       "    }\n",
       "\n",
       "    .dataframe thead th {\n",
       "        text-align: right;\n",
       "    }\n",
       "</style>\n",
       "<table border=\"1\" class=\"dataframe\">\n",
       "  <thead>\n",
       "    <tr style=\"text-align: right;\">\n",
       "      <th></th>\n",
       "      <th>adult</th>\n",
       "      <th>belongs_to_collection</th>\n",
       "      <th>budget</th>\n",
       "      <th>genres</th>\n",
       "      <th>homepage</th>\n",
       "      <th>id</th>\n",
       "      <th>imdb_id</th>\n",
       "      <th>original_language</th>\n",
       "      <th>original_title</th>\n",
       "      <th>overview</th>\n",
       "      <th>...</th>\n",
       "      <th>release_date</th>\n",
       "      <th>revenue</th>\n",
       "      <th>runtime</th>\n",
       "      <th>spoken_languages</th>\n",
       "      <th>status</th>\n",
       "      <th>tagline</th>\n",
       "      <th>title</th>\n",
       "      <th>video</th>\n",
       "      <th>vote_average</th>\n",
       "      <th>vote_count</th>\n",
       "    </tr>\n",
       "  </thead>\n",
       "  <tbody>\n",
       "    <tr>\n",
       "      <th>0</th>\n",
       "      <td>False</td>\n",
       "      <td>NaN</td>\n",
       "      <td>0</td>\n",
       "      <td>[{'id': 10770, 'name': 'TV Movie'}, {'id': 14,...</td>\n",
       "      <td>NaN</td>\n",
       "      <td>48358</td>\n",
       "      <td>tt0115820</td>\n",
       "      <td>en</td>\n",
       "      <td>The Canterville Ghost</td>\n",
       "      <td>When a teenaged girl moves to England, with he...</td>\n",
       "      <td>...</td>\n",
       "      <td>1996-10-03</td>\n",
       "      <td>0.0</td>\n",
       "      <td>92.0</td>\n",
       "      <td>[{'iso_639_1': 'en', 'name': 'English'}]</td>\n",
       "      <td>Released</td>\n",
       "      <td>NaN</td>\n",
       "      <td>The Canterville Ghost</td>\n",
       "      <td>False</td>\n",
       "      <td>6.1</td>\n",
       "      <td>8.0</td>\n",
       "    </tr>\n",
       "    <tr>\n",
       "      <th>1</th>\n",
       "      <td>False</td>\n",
       "      <td>NaN</td>\n",
       "      <td>0</td>\n",
       "      <td>[{'id': 18, 'name': 'Drama'}, {'id': 10749, 'n...</td>\n",
       "      <td>NaN</td>\n",
       "      <td>33001</td>\n",
       "      <td>tt0022236</td>\n",
       "      <td>en</td>\n",
       "      <td>Other Men's Women</td>\n",
       "      <td>Railroad fireman Bill White is a carefree ladi...</td>\n",
       "      <td>...</td>\n",
       "      <td>1931-01-17</td>\n",
       "      <td>0.0</td>\n",
       "      <td>71.0</td>\n",
       "      <td>[{'iso_639_1': 'en', 'name': 'English'}]</td>\n",
       "      <td>Released</td>\n",
       "      <td>A Romance of the Shining Rails</td>\n",
       "      <td>Other Men's Women</td>\n",
       "      <td>False</td>\n",
       "      <td>4.8</td>\n",
       "      <td>4.0</td>\n",
       "    </tr>\n",
       "    <tr>\n",
       "      <th>2</th>\n",
       "      <td>False</td>\n",
       "      <td>NaN</td>\n",
       "      <td>0</td>\n",
       "      <td>[{'id': 37, 'name': 'Western'}]</td>\n",
       "      <td>NaN</td>\n",
       "      <td>153228</td>\n",
       "      <td>tt0046095</td>\n",
       "      <td>en</td>\n",
       "      <td>The Moonlighter</td>\n",
       "      <td>A savage story of hate turned love and frenzy ...</td>\n",
       "      <td>...</td>\n",
       "      <td>1953-09-19</td>\n",
       "      <td>0.0</td>\n",
       "      <td>77.0</td>\n",
       "      <td>[{'iso_639_1': 'en', 'name': 'English'}]</td>\n",
       "      <td>Released</td>\n",
       "      <td>THE MOST MAN-WOMAN EXCITEMENT EVENT TO EXPLODE...</td>\n",
       "      <td>The Moonlighter</td>\n",
       "      <td>False</td>\n",
       "      <td>4.5</td>\n",
       "      <td>3.0</td>\n",
       "    </tr>\n",
       "    <tr>\n",
       "      <th>3</th>\n",
       "      <td>False</td>\n",
       "      <td>NaN</td>\n",
       "      <td>0</td>\n",
       "      <td>[{'id': 35, 'name': 'Comedy'}, {'id': 18, 'nam...</td>\n",
       "      <td>NaN</td>\n",
       "      <td>17685</td>\n",
       "      <td>tt0060908</td>\n",
       "      <td>fr</td>\n",
       "      <td>Le roi de cœur</td>\n",
       "      <td>An ornithologist mistaken for an explosives ex...</td>\n",
       "      <td>...</td>\n",
       "      <td>1966-12-21</td>\n",
       "      <td>0.0</td>\n",
       "      <td>102.0</td>\n",
       "      <td>[{'iso_639_1': 'en', 'name': 'English'}, {'iso...</td>\n",
       "      <td>Released</td>\n",
       "      <td>NaN</td>\n",
       "      <td>King of Hearts</td>\n",
       "      <td>False</td>\n",
       "      <td>6.8</td>\n",
       "      <td>15.0</td>\n",
       "    </tr>\n",
       "    <tr>\n",
       "      <th>4</th>\n",
       "      <td>False</td>\n",
       "      <td>{'id': 258664, 'name': 'Nymphomaniac Collectio...</td>\n",
       "      <td>0</td>\n",
       "      <td>[{'id': 18, 'name': 'Drama'}, {'id': 9648, 'na...</td>\n",
       "      <td>http://www.magpictures.com/nymphomaniac/</td>\n",
       "      <td>249397</td>\n",
       "      <td>tt2382009</td>\n",
       "      <td>da</td>\n",
       "      <td>Nymphomaniac: Vol. II</td>\n",
       "      <td>The continuation of Joe's sexually dictated li...</td>\n",
       "      <td>...</td>\n",
       "      <td>2013-12-25</td>\n",
       "      <td>2227167.0</td>\n",
       "      <td>123.0</td>\n",
       "      <td>[{'iso_639_1': 'en', 'name': 'English'}]</td>\n",
       "      <td>Released</td>\n",
       "      <td>Forget About Love</td>\n",
       "      <td>Nymphomaniac: Vol. II</td>\n",
       "      <td>False</td>\n",
       "      <td>6.6</td>\n",
       "      <td>820.0</td>\n",
       "    </tr>\n",
       "  </tbody>\n",
       "</table>\n",
       "<p>5 rows × 24 columns</p>\n",
       "</div>"
      ],
      "text/plain": [
       "   adult                              belongs_to_collection budget  \\\n",
       "0  False                                                NaN      0   \n",
       "1  False                                                NaN      0   \n",
       "2  False                                                NaN      0   \n",
       "3  False                                                NaN      0   \n",
       "4  False  {'id': 258664, 'name': 'Nymphomaniac Collectio...      0   \n",
       "\n",
       "                                              genres  \\\n",
       "0  [{'id': 10770, 'name': 'TV Movie'}, {'id': 14,...   \n",
       "1  [{'id': 18, 'name': 'Drama'}, {'id': 10749, 'n...   \n",
       "2                    [{'id': 37, 'name': 'Western'}]   \n",
       "3  [{'id': 35, 'name': 'Comedy'}, {'id': 18, 'nam...   \n",
       "4  [{'id': 18, 'name': 'Drama'}, {'id': 9648, 'na...   \n",
       "\n",
       "                                   homepage      id    imdb_id  \\\n",
       "0                                       NaN   48358  tt0115820   \n",
       "1                                       NaN   33001  tt0022236   \n",
       "2                                       NaN  153228  tt0046095   \n",
       "3                                       NaN   17685  tt0060908   \n",
       "4  http://www.magpictures.com/nymphomaniac/  249397  tt2382009   \n",
       "\n",
       "  original_language         original_title  \\\n",
       "0                en  The Canterville Ghost   \n",
       "1                en      Other Men's Women   \n",
       "2                en        The Moonlighter   \n",
       "3                fr         Le roi de cœur   \n",
       "4                da  Nymphomaniac: Vol. II   \n",
       "\n",
       "                                            overview  ... release_date  \\\n",
       "0  When a teenaged girl moves to England, with he...  ...   1996-10-03   \n",
       "1  Railroad fireman Bill White is a carefree ladi...  ...   1931-01-17   \n",
       "2  A savage story of hate turned love and frenzy ...  ...   1953-09-19   \n",
       "3  An ornithologist mistaken for an explosives ex...  ...   1966-12-21   \n",
       "4  The continuation of Joe's sexually dictated li...  ...   2013-12-25   \n",
       "\n",
       "     revenue runtime                                   spoken_languages  \\\n",
       "0        0.0    92.0           [{'iso_639_1': 'en', 'name': 'English'}]   \n",
       "1        0.0    71.0           [{'iso_639_1': 'en', 'name': 'English'}]   \n",
       "2        0.0    77.0           [{'iso_639_1': 'en', 'name': 'English'}]   \n",
       "3        0.0   102.0  [{'iso_639_1': 'en', 'name': 'English'}, {'iso...   \n",
       "4  2227167.0   123.0           [{'iso_639_1': 'en', 'name': 'English'}]   \n",
       "\n",
       "     status                                            tagline  \\\n",
       "0  Released                                                NaN   \n",
       "1  Released                     A Romance of the Shining Rails   \n",
       "2  Released  THE MOST MAN-WOMAN EXCITEMENT EVENT TO EXPLODE...   \n",
       "3  Released                                                NaN   \n",
       "4  Released                                  Forget About Love   \n",
       "\n",
       "                   title  video vote_average vote_count  \n",
       "0  The Canterville Ghost  False          6.1        8.0  \n",
       "1      Other Men's Women  False          4.8        4.0  \n",
       "2        The Moonlighter  False          4.5        3.0  \n",
       "3         King of Hearts  False          6.8       15.0  \n",
       "4  Nymphomaniac: Vol. II  False          6.6      820.0  \n",
       "\n",
       "[5 rows x 24 columns]"
      ]
     },
     "execution_count": 16,
     "metadata": {},
     "output_type": "execute_result"
    }
   ],
   "source": [
    "movies.head()"
   ]
  },
  {
   "cell_type": "code",
   "execution_count": 17,
   "id": "ba67a396",
   "metadata": {},
   "outputs": [
    {
     "data": {
      "text/plain": [
       "['Brink!',\n",
       " 'Enemy Mine',\n",
       " 'Shoulder Arms',\n",
       " 'The Most Beautiful Thing',\n",
       " 'Plastic',\n",
       " 'Catching the Sun',\n",
       " 'Le spie amano i fiori',\n",
       " 'Demain',\n",
       " 'Salt and Fire',\n",
       " 'Inside']"
      ]
     },
     "execution_count": 17,
     "metadata": {},
     "output_type": "execute_result"
    }
   ],
   "source": [
    "recommender_system(\"The Avengers\", cosine_similarity)"
   ]
  },
  {
   "cell_type": "code",
   "execution_count": 18,
   "id": "b21aa6fa",
   "metadata": {},
   "outputs": [],
   "source": [
    "# #Create a search function, for when entering title name\n",
    "# def search_title(title):\n",
    "#     vectored = vectorise.transform([title])\n",
    "#     similar = cosine_similarity(vectored, matrix).flatten()\n",
    "#     ten_most_similar_titles = np.argpartition(similar, -10)[-10:]\n",
    "#     final = movie_file.iloc[ten_most_similar_titles][::-1]\n",
    "#     return final\n",
    "\n",
    "# #Add a easier way for user to enter media - from user survey\n",
    "# title_input = widgets.Text(\n",
    "#     value=\"\",\n",
    "#     description=\"Enter Title:\",\n",
    "#     disabled=False\n",
    "# )\n",
    "\n",
    "# output_title = widgets.Output()\n",
    "\n",
    "# def when_typing(text):\n",
    "#     with output_title:\n",
    "#         output_title.clear_output()\n",
    "#         title = text[\"new\"]\n",
    "#         if len(title) >= 3:\n",
    "#             output_movie = search_title(title)\n",
    "#             movie_ID = output_movie.iloc[0][\"movieId\"]\n",
    "#             display(recommender_system(movie_ID))\n",
    "\n",
    "# title_input.observe(when_typing, names=\"value\")\n",
    "# display(title_input, output_title)"
   ]
  },
  {
   "cell_type": "code",
   "execution_count": 19,
   "id": "378c29bb",
   "metadata": {},
   "outputs": [
    {
     "data": {
      "application/vnd.jupyter.widget-view+json": {
       "model_id": "fc0406e526c444338378d77b8513f939",
       "version_major": 2,
       "version_minor": 0
      },
      "text/plain": [
       "Text(value='', description='Enter Movie:', placeholder='Movie Name')"
      ]
     },
     "metadata": {},
     "output_type": "display_data"
    },
    {
     "data": {
      "application/vnd.jupyter.widget-view+json": {
       "model_id": "61e23232c52a401c9cd80a46bc357f97",
       "version_major": 2,
       "version_minor": 0
      },
      "text/plain": [
       "Button(description='Get Recommendations', style=ButtonStyle())"
      ]
     },
     "metadata": {},
     "output_type": "display_data"
    },
    {
     "data": {
      "application/vnd.jupyter.widget-view+json": {
       "model_id": "f943f68756954f19957338e962bb7b1b",
       "version_major": 2,
       "version_minor": 0
      },
      "text/plain": [
       "Output()"
      ]
     },
     "metadata": {},
     "output_type": "display_data"
    }
   ],
   "source": [
    "def on_button_clicked(b):\n",
    "    movie_name = text_input.value.strip()\n",
    "    recommendations = recommender_system(movie_name, cosine_similarity)\n",
    "    output.clear_output()\n",
    "    with output:\n",
    "        print(\"Recommendations:\")\n",
    "        for movie in recommendations:\n",
    "            print(movie)\n",
    "\n",
    "# Create text input box and button\n",
    "text_input = widgets.Text(description='Enter Movie:', placeholder='Movie Name')\n",
    "button = widgets.Button(description='Get Recommendations')\n",
    "\n",
    "# Attach button click event handler\n",
    "button.on_click(on_button_clicked)\n",
    "\n",
    "# Create output widget to display recommendations\n",
    "output = widgets.Output()\n",
    "\n",
    "# Display widgets\n",
    "display(text_input)\n",
    "display(button)\n",
    "display(output)"
   ]
  },
  {
   "cell_type": "code",
   "execution_count": null,
   "id": "e62e18ab",
   "metadata": {},
   "outputs": [],
   "source": []
  }
 ],
 "metadata": {
  "kernelspec": {
   "display_name": "Python 3 (ipykernel)",
   "language": "python",
   "name": "python3"
  },
  "language_info": {
   "codemirror_mode": {
    "name": "ipython",
    "version": 3
   },
   "file_extension": ".py",
   "mimetype": "text/x-python",
   "name": "python",
   "nbconvert_exporter": "python",
   "pygments_lexer": "ipython3",
   "version": "3.9.18"
  }
 },
 "nbformat": 4,
 "nbformat_minor": 5
}
