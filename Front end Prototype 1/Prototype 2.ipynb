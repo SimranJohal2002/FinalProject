{
 "cells": [
  {
   "cell_type": "code",
   "execution_count": 1,
   "id": "c6b2a1ef",
   "metadata": {},
   "outputs": [],
   "source": [
    "#Import libraries\n",
    "import pandas as pd\n",
    "import numpy as np\n",
    "import re\n",
    "import sys\n",
    "\n",
    "# import ipywidgets as widgets\n",
    "# from IPython.display import display\n",
    "\n",
    "from sklearn.feature_extraction.text import TfidfVectorizer\n",
    "from sklearn.metrics.pairwise import cosine_similarity"
   ]
  },
  {
   "cell_type": "code",
   "execution_count": 2,
   "id": "3c23e793",
   "metadata": {},
   "outputs": [],
   "source": [
    "movie_file = pd.read_csv(\"ml-25m/movies.csv\")\n",
    "movie_file\n",
    "\n",
    "#read ratings file needed for algorithm\n",
    "movie_rating = pd.read_csv(\"ml-25m/ratings.csv\")"
   ]
  },
  {
   "cell_type": "code",
   "execution_count": 3,
   "id": "f008dd84",
   "metadata": {},
   "outputs": [],
   "source": [
    "#Function to clean title data\n",
    "def remove_year_from_title(title):\n",
    "    #find pattern of four numbers and brackets\n",
    "    pattern = r'\\(\\d{4}\\)'\n",
    "    #remove the pattern from the title\n",
    "    cleaned_title = re.sub(pattern, '', title).strip()\n",
    "    return cleaned_title"
   ]
  },
  {
   "cell_type": "code",
   "execution_count": 4,
   "id": "73e74081",
   "metadata": {},
   "outputs": [],
   "source": [
    "#Make a new column with the fixed titles\n",
    "movie_file[\"fix_title\"] = movie_file[\"title\"].apply(remove_year_from_title)"
   ]
  },
  {
   "cell_type": "code",
   "execution_count": 5,
   "id": "609f1769",
   "metadata": {},
   "outputs": [],
   "source": [
    "#Now we need to vectorise the titles, so the computer can understand them\n",
    "vectorise = TfidfVectorizer(ngram_range=(1,2))\n",
    "#turn title into matrix\n",
    "matrix = vectorise.fit_transform(movie_file[\"fix_title\"])"
   ]
  },
  {
   "cell_type": "code",
   "execution_count": 6,
   "id": "e3c426af",
   "metadata": {},
   "outputs": [],
   "source": [
    "#Create a search function, for when entering title name\n",
    "def search_title(title):\n",
    "    title = remove_year_from_title(title)\n",
    "    vectored = vectorise.transform([title])\n",
    "    similar = cosine_similarity(vectored, matrix).flatten()\n",
    "    ten_most_similar_titles = np.argpartition(similar, -10)[-10:]\n",
    "    final = movie_file.iloc[ten_most_similar_titles][::-1]\n",
    "    return final"
   ]
  },
  {
   "cell_type": "code",
   "execution_count": 7,
   "id": "6e277377",
   "metadata": {},
   "outputs": [],
   "source": [
    "#find users who liked the same movie as movie entered\n",
    "    #similar_user = movie_rating[(movie_rating[\"movieId\"] == movieId) & (movie_rating[\"rating\"] >= 3.5)][\"userId\"].unique()\n",
    "    #find more movies the user rated 3.5 or above\n",
    "    #user_likes = movie_rating[(movie_rating[\"userId\"].isin(similar_user)) & (movie_rating[\"rating\"] >= 3.5)][\"movieId\"]\n",
    "    #turn the amount of the movie counts into a percentage\n",
    "    #user_likes = user_likes.value_counts() / len(similar_user)\n",
    "    #since there are alot of movies liked, I only chose the ones where more than 20% of users liked\n",
    "    #user_likes = user_likes[user_likes > 0.2]\n",
    "    #user_likes"
   ]
  },
  {
   "cell_type": "code",
   "execution_count": 8,
   "id": "da443afa",
   "metadata": {},
   "outputs": [],
   "source": [
    "#Make the final recommendation function\n",
    "def recommendation_function(movieId):\n",
    "    #find users who liked the same movie as movie entered\n",
    "    similar_user = movie_rating[(movie_rating[\"movieId\"] == movieId) & (movie_rating[\"rating\"] >= 3.5)][\"userId\"].unique()\n",
    "    #find more movies the user rated 3.5 or above\n",
    "    user_likes = movie_rating[(movie_rating[\"userId\"].isin(similar_user)) & (movie_rating[\"rating\"] >= 3.5)][\"movieId\"]\n",
    "    #turn the amount of the movie counts into a percentage\n",
    "    user_likes = user_likes.value_counts() / len(similar_user)\n",
    "    #since there are alot of movies liked, I only chose the ones where more than 20% of users liked\n",
    "    user_likes = user_likes[user_likes > 0.2]\n",
    "    \n",
    "    #find all users who liked the movie title\n",
    "    users = movie_rating[(movie_rating[\"movieId\"].isin(user_likes.index)) & (movie_rating[\"rating\"] > 3.5)]\n",
    "    #find percentage all users recommend each movie\n",
    "    users = users[\"movieId\"].value_counts() / len(users[\"userId\"].unique())\n",
    "    \n",
    "    #now we need to compare the two percentages we have made\n",
    "    #we will have a new table where the columns show how much each user likes a movie and how much similar users like a movie\n",
    "    new_table = pd.concat([user_likes, users], axis=1)\n",
    "    new_table.columns = [\"user_likes\", \"users\"]\n",
    "    #Now we need to find the ratio between these two numbers\n",
    "    new_table[\"ratio\"] = new_table[\"user_likes\"] / new_table[\"users\"]\n",
    "    #sort these ratios\n",
    "    new_table = new_table.sort_values(\"ratio\", ascending=False)\n",
    "    \n",
    "    #we need to get the titles of the highest ratio of movies and return it\n",
    "    return new_table.head(10).merge(movie_file, left_index=True, right_on=\"movieId\")[[\"title\", \"genres\"]]"
   ]
  },
  {
   "cell_type": "code",
   "execution_count": 11,
   "id": "437986bc",
   "metadata": {},
   "outputs": [],
   "source": [
    "#Add a easier way for user to enter media - from user survey\n",
    "# title_input = widgets.Text(\n",
    "#     value=\"\",\n",
    "#     description=\"Enter Title:\",\n",
    "#     disabled=False\n",
    "# )\n",
    "\n",
    "# output_title = widgets.Output()\n",
    "\n",
    "# def when_typing(text):\n",
    "#     with output_title:\n",
    "#         output_title.clear_output()\n",
    "#         title = text[\"new\"]\n",
    "#         if len(title) >= 3:\n",
    "#             output_movie = search_title(title)\n",
    "#             movie_ID = output_movie.iloc[0][\"movieId\"]\n",
    "#             display(recommendation_function(movie_ID))\n",
    "\n",
    "# title_input.observe(when_typing, names=\"value\")\n",
    "# display(title_input, output_title)"
   ]
  },
  {
   "cell_type": "code",
   "execution_count": 12,
   "id": "2394263d",
   "metadata": {},
   "outputs": [],
   "source": [
    "output_movie = search_title(sys.argv[1])\n",
    "movie_ID = output_movie.iloc[0][\"movieId\"]\n",
    "data = recommendation_function(movie_ID)\n",
    "print(data)"
   ]
  },
  {
   "cell_type": "code",
   "execution_count": null,
   "id": "02226323",
   "metadata": {},
   "outputs": [],
   "source": []
  }
 ],
 "metadata": {
  "kernelspec": {
   "display_name": "Python 3 (ipykernel)",
   "language": "python",
   "name": "python3"
  },
  "language_info": {
   "codemirror_mode": {
    "name": "ipython",
    "version": 3
   },
   "file_extension": ".py",
   "mimetype": "text/x-python",
   "name": "python",
   "nbconvert_exporter": "python",
   "pygments_lexer": "ipython3",
   "version": "3.9.18"
  }
 },
 "nbformat": 4,
 "nbformat_minor": 5
}
