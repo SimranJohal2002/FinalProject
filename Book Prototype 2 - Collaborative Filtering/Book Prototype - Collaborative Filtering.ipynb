{
 "cells": [
  {
   "cell_type": "markdown",
   "id": "2d65c782",
   "metadata": {},
   "source": [
    "This is the real and final book prototype made with collaborative filtering. I used the same dataset as in the first book prototype, but used similar code to from the movies prototype to make this one."
   ]
  },
  {
   "cell_type": "markdown",
   "id": "a6bed7b7",
   "metadata": {},
   "source": [
    "Dataset found from: https://www.kaggle.com/datasets/saurabhbagchi/books-dataset/data"
   ]
  },
  {
   "cell_type": "code",
   "execution_count": 1,
   "id": "c467f245",
   "metadata": {},
   "outputs": [],
   "source": [
    "#Import libraries\n",
    "import pandas as pd\n",
    "import numpy as np\n",
    "import re\n",
    "\n",
    "import ipywidgets as widgets\n",
    "from IPython.display import display\n",
    "\n",
    "from sklearn.feature_extraction.text import TfidfVectorizer\n",
    "from sklearn.metrics.pairwise import cosine_similarity"
   ]
  },
  {
   "cell_type": "code",
   "execution_count": 3,
   "id": "534a485c",
   "metadata": {},
   "outputs": [
    {
     "name": "stderr",
     "output_type": "stream",
     "text": [
      "C:\\Users\\Sim\\AppData\\Local\\Temp\\ipykernel_9584\\2935500988.py:1: DtypeWarning: Columns (3) have mixed types. Specify dtype option on import or set low_memory=False.\n",
      "  book_file = pd.read_csv(\"books_data/books.csv\", sep=\";\", encoding='latin-1', on_bad_lines='skip')\n"
     ]
    }
   ],
   "source": [
    "book_file = pd.read_csv(\"books_data/books.csv\", sep=\";\", encoding='latin-1', on_bad_lines='skip')"
   ]
  },
  {
   "cell_type": "code",
   "execution_count": 4,
   "id": "76c7c942",
   "metadata": {},
   "outputs": [],
   "source": [
    "rating_file = pd.read_csv(\"books_data/ratings.csv\", sep=\";\", encoding='latin-1', on_bad_lines='skip')"
   ]
  },
  {
   "cell_type": "code",
   "execution_count": 5,
   "id": "4723c9d5",
   "metadata": {},
   "outputs": [],
   "source": [
    "vectorise = TfidfVectorizer(ngram_range=(1,2))\n",
    "#turn title into matrix\n",
    "matrix = vectorise.fit_transform(book_file[\"Book-Title\"])"
   ]
  },
  {
   "cell_type": "code",
   "execution_count": 6,
   "id": "4510237a",
   "metadata": {},
   "outputs": [],
   "source": [
    "#Create a search function, for when entering book title name\n",
    "def search_title(title):\n",
    "    vectored = vectorise.transform([title])\n",
    "    similar = cosine_similarity(vectored, matrix).flatten()\n",
    "    ten_most_similar_titles = np.argpartition(similar, -10)[-10:]\n",
    "    final = book_file.iloc[ten_most_similar_titles][::-1]\n",
    "    return final"
   ]
  },
  {
   "cell_type": "code",
   "execution_count": 25,
   "id": "4d775c92",
   "metadata": {},
   "outputs": [],
   "source": [
    "#Make the final recommendation function\n",
    "def recommendation_function(bookId):\n",
    "    #find users who liked the same book as book entered\n",
    "    similar_user = rating_file[(rating_file[\"ISBN\"] == bookId) & (rating_file[\"Book-Rating\"] >= 5.5)][\"User-ID\"].unique()\n",
    "    #find more books the user rated 6.5 or above\n",
    "    user_likes = rating_file[(rating_file[\"User-ID\"].isin(similar_user)) & (rating_file[\"Book-Rating\"] >= 5.5)][\"ISBN\"]\n",
    "    #turn the amount of the book counts into a percentage\n",
    "    user_likes = user_likes.value_counts() / len(similar_user)\n",
    "    #since there are alot of books liked, I only chose the ones where more than 20% of users liked\n",
    "    user_likes = user_likes[user_likes > 0.01]\n",
    "    \n",
    "    #find all users who liked the book title\n",
    "    users = rating_file[(rating_file[\"ISBN\"].isin(user_likes.index)) & (rating_file[\"Book-Rating\"] > 5.5)]\n",
    "    #find percentage all users recommend each book\n",
    "    users = users[\"ISBN\"].value_counts() / len(users[\"User-ID\"].unique())\n",
    "    \n",
    "    #now we need to compare the two percentages we have made\n",
    "    #we will have a new table where the columns show how much each user likes a book and how much similar users like a book\n",
    "    new_table = pd.concat([user_likes, users], axis=1)\n",
    "    new_table.columns = [\"user_likes\", \"users\"]\n",
    "    #Now we need to find the ratio between these two numbers\n",
    "    new_table[\"ratio\"] = new_table[\"user_likes\"] / new_table[\"users\"]\n",
    "    #sort these ratios\n",
    "    new_table = new_table.sort_values(\"ratio\", ascending=False)\n",
    "    \n",
    "    #we need to get the titles of the highest ratio of books and return it\n",
    "    return new_table.head(10).merge(book_file, left_index=True, right_on=\"ISBN\")[[\"Book-Title\", \"Book-Author\", \"Year-Of-Publication\", \"Publisher\"]]"
   ]
  },
  {
   "cell_type": "code",
   "execution_count": 26,
   "id": "2a4c2d04",
   "metadata": {},
   "outputs": [
    {
     "data": {
      "application/vnd.jupyter.widget-view+json": {
       "model_id": "be5f147568894a009f4d6e4ee0a910f4",
       "version_major": 2,
       "version_minor": 0
      },
      "text/plain": [
       "Text(value='', description='Enter Title:')"
      ]
     },
     "metadata": {},
     "output_type": "display_data"
    },
    {
     "data": {
      "application/vnd.jupyter.widget-view+json": {
       "model_id": "e91cce10c994409f8d0694eb00b09210",
       "version_major": 2,
       "version_minor": 0
      },
      "text/plain": [
       "Output()"
      ]
     },
     "metadata": {},
     "output_type": "display_data"
    }
   ],
   "source": [
    "#Add a easier way for user to enter media - from user survey\n",
    "title_input = widgets.Text(\n",
    "    value=\"\",\n",
    "    description=\"Enter Title:\",\n",
    "    disabled=False\n",
    ")\n",
    "\n",
    "output_title = widgets.Output()\n",
    "\n",
    "def when_typing(text):\n",
    "    with output_title:\n",
    "        output_title.clear_output()\n",
    "        title = text[\"new\"]\n",
    "        if len(title) >= 3:\n",
    "            output_book = search_title(title)\n",
    "            book_ID = output_book.iloc[0][\"ISBN\"]\n",
    "            display(recommendation_function(book_ID))\n",
    "\n",
    "title_input.observe(when_typing, names=\"value\")\n",
    "display(title_input, output_title)"
   ]
  },
  {
   "cell_type": "code",
   "execution_count": null,
   "id": "a6bad1f1",
   "metadata": {},
   "outputs": [],
   "source": []
  }
 ],
 "metadata": {
  "kernelspec": {
   "display_name": "Python 3 (ipykernel)",
   "language": "python",
   "name": "python3"
  },
  "language_info": {
   "codemirror_mode": {
    "name": "ipython",
    "version": 3
   },
   "file_extension": ".py",
   "mimetype": "text/x-python",
   "name": "python",
   "nbconvert_exporter": "python",
   "pygments_lexer": "ipython3",
   "version": "3.9.18"
  }
 },
 "nbformat": 4,
 "nbformat_minor": 5
}
